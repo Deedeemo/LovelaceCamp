{
  "nbformat": 4,
  "nbformat_minor": 0,
  "metadata": {
    "colab": {
      "name": "Python_Week_1.ipynb",
      "version": "0.3.2",
      "provenance": [],
      "toc_visible": true,
      "include_colab_link": true
    },
    "kernelspec": {
      "name": "python3",
      "display_name": "Python 3"
    }
  },
  "cells": [
    {
      "cell_type": "markdown",
      "metadata": {
        "id": "view-in-github",
        "colab_type": "text"
      },
      "source": [
        "<a href=\"https://colab.research.google.com/github/Deedeemo/LovelaceCamp/blob/master/Python_Week_3.ipynb\" target=\"_parent\"><img src=\"https://colab.research.google.com/assets/colab-badge.svg\" alt=\"Open In Colab\"/></a>"
      ]
    },
    {
      "metadata": {
        "id": "B7feF7J_EgbH",
        "colab_type": "text"
      },
      "cell_type": "markdown",
      "source": [
        "# Outline\n",
        "\n",
        "\n",
        "\n",
        "> Week 1\n",
        "*   Jupyter Notebooks \n",
        "*   Your first Python program | Python syntax | Types | Expressions and Variables | String Operations\n",
        "*   List and Tuples | Sets | Dictionaries\n",
        "\n",
        "> Week 2\n",
        "*  Conditions and Branching | Loops | Functions | Objects and Classes\n",
        "\n",
        "> Week 3\n",
        "*  Reading & Writing files with open | Loading data with Pandas | Numpy\n",
        "*  Dive in the data project\n",
        "\n",
        "> Week 4\n",
        " * Python Exam\n",
        "\n",
        "\n",
        "\n",
        "\n",
        "\n"
      ]
    },
    {
      "metadata": {
        "id": "jbfuIjpVHFZH",
        "colab_type": "text"
      },
      "cell_type": "markdown",
      "source": [
        ""
      ]
    },
    {
      "metadata": {
        "id": "nDqgJz5hEkiR",
        "colab_type": "code",
        "colab": {}
      },
      "cell_type": "code",
      "source": [
        ""
      ],
      "execution_count": 0,
      "outputs": []
    }
  ]
}